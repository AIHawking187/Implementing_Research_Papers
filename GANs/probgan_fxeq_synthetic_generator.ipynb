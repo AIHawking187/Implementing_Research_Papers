{
 "cells": [
  {
   "cell_type": "markdown",
   "metadata": {},
   "source": [
    "# ProbGAN - Synthetic FX + Equity Forecasting Notebook\n",
    "This notebook uses the `FXEQGenerator` from the ProbGAN repo to generate synthetic price paths based on FX and equity data."
   ]
  },
  {
   "cell_type": "code",
   "execution_count": 1,
   "metadata": {},
   "outputs": [
    {
     "ename": "ModuleNotFoundError",
     "evalue": "No module named 'models'",
     "output_type": "error",
     "traceback": [
      "\u001b[1;31m---------------------------------------------------------------------------\u001b[0m",
      "\u001b[1;31mModuleNotFoundError\u001b[0m                       Traceback (most recent call last)",
      "Cell \u001b[1;32mIn[1], line 5\u001b[0m\n\u001b[0;32m      3\u001b[0m \u001b[38;5;28;01mimport\u001b[39;00m \u001b[38;5;21;01mnumpy\u001b[39;00m \u001b[38;5;28;01mas\u001b[39;00m \u001b[38;5;21;01mnp\u001b[39;00m\n\u001b[0;32m      4\u001b[0m \u001b[38;5;28;01mimport\u001b[39;00m \u001b[38;5;21;01mpandas\u001b[39;00m \u001b[38;5;28;01mas\u001b[39;00m \u001b[38;5;21;01mpd\u001b[39;00m\n\u001b[1;32m----> 5\u001b[0m \u001b[38;5;28;01mfrom\u001b[39;00m \u001b[38;5;21;01mmodels\u001b[39;00m \u001b[38;5;28;01mimport\u001b[39;00m FXEQGenerator\n\u001b[0;32m      6\u001b[0m \u001b[38;5;28;01mfrom\u001b[39;00m \u001b[38;5;21;01mtrain_utils\u001b[39;00m \u001b[38;5;28;01mimport\u001b[39;00m plot_result\n\u001b[0;32m      7\u001b[0m \u001b[38;5;28;01mimport\u001b[39;00m \u001b[38;5;21;01mos\u001b[39;00m\n",
      "\u001b[1;31mModuleNotFoundError\u001b[0m: No module named 'models'"
     ]
    }
   ],
   "source": [
    "# 📦 Environment Setup\n",
    "import torch\n",
    "import numpy as np\n",
    "import pandas as pd\n",
    "from train_utils import plot_result\n",
    "import os\n",
    "\n",
    "device = torch.device(\"cuda\" if torch.cuda.is_available() else \"cpu\")"
   ]
  },
  {
   "cell_type": "code",
   "execution_count": null,
   "metadata": {},
   "outputs": [],
   "source": [
    "# 📈 Load and Preprocess Data\n",
    "df = pd.read_csv(\"raw (FX + EQ).csv\")\n",
    "print(df.shape)\n",
    "df.head()"
   ]
  },
  {
   "cell_type": "code",
   "execution_count": null,
   "metadata": {},
   "outputs": [],
   "source": [
    "# 🧠 Load Pre-trained Generator\n",
    "G = FXEQGenerator(z_size=100).to(device)\n",
    "G.eval()"
   ]
  },
  {
   "cell_type": "code",
   "execution_count": null,
   "metadata": {},
   "outputs": [],
   "source": [
    "# 🔮 Generate Synthetic Forecast\n",
    "LAST_KNOWN_PRICES = np.array([\n",
    "    15.136, 20.3352, 17.563, 8.6973, 1.1579, 1.3435,\n",
    "    20.716, 141.5, 164.252, 9.95, 30.14, 2004.0\n",
    "])\n",
    "\n",
    "def generate_synthetic_forecast(G, forecast_horizon=300, n_samples=1, steps_per_pass=20):\n",
    "    n_passes = forecast_horizon // steps_per_pass\n",
    "    all_returns = []\n",
    "\n",
    "    with torch.no_grad():\n",
    "        for _ in range(n_passes):\n",
    "            z = torch.randn(n_samples, 100).to(device)\n",
    "            returns_block = G(z).cpu().numpy()\n",
    "            all_returns.append(returns_block)\n",
    "\n",
    "    returns = np.concatenate(all_returns, axis=1)\n",
    "\n",
    "    prices = []\n",
    "    for i in range(returns.shape[2]):\n",
    "        series = returns[0, :, i]\n",
    "        series_prices = [LAST_KNOWN_PRICES[i]]\n",
    "        for r in series:\n",
    "            series_prices.append(series_prices[-1] * (1 + r))\n",
    "        prices.append(series_prices[1:])\n",
    "\n",
    "    df_synthetic = pd.DataFrame(np.array(prices).T, columns=df.columns)\n",
    "    df_synthetic.to_csv(\"synthetic_prices.csv\", index=False)\n",
    "    return df_synthetic\n",
    "\n",
    "synthetic_df = generate_synthetic_forecast(G)\n",
    "synthetic_df.head()"
   ]
  },
  {
   "cell_type": "code",
   "execution_count": null,
   "metadata": {},
   "outputs": [],
   "source": [
    "# 📊 Plot One Sample\n",
    "fixed_noise = torch.randn(1, 100).to(device)\n",
    "plot_result(G, fixed_noise, image_size=1, num_epoch=0, save_dir=\".\", n_series=12)"
   ]
  }
 ],
 "metadata": {
  "kernelspec": {
   "display_name": "Python 3 (ipykernel)",
   "language": "python",
   "name": "python3"
  },
  "language_info": {
   "codemirror_mode": {
    "name": "ipython",
    "version": 3
   },
   "file_extension": ".py",
   "mimetype": "text/x-python",
   "name": "python",
   "nbconvert_exporter": "python",
   "pygments_lexer": "ipython3",
   "version": "3.12.4"
  }
 },
 "nbformat": 4,
 "nbformat_minor": 4
}
